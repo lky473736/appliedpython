{
 "cells": [
  {
   "cell_type": "markdown",
   "metadata": {},
   "source": [
    "# CRISP-DM 방법론\n",
    "\n",
    "- 1단계 비즈니스 이해 (Business Understanding)\n",
    "    - 현재 상황 평가\n",
    "    - 데이터 마이닝 목표 결정\n",
    "    - 프로젝트 계획 수립\n",
    "----    \n",
    "- 2단계 데이터에 대한 이해 (Data Understanding)\n",
    "    - 데이터 설명\n",
    "    - 데이터 탐색\n",
    "    - 데이터 품질 확인\n",
    "----\n",
    "- 3단계 데이터 준비 (Data Preparation)\n",
    "    - 데이터 선택\n",
    "    - 데이터 정제\n",
    "    - 필수데이터 구성\n",
    "    - 데이터 통합\n",
    "----\n",
    "- 4단계 모델링 (Modeling)\n",
    "    - 모델링 기법 선정\n",
    "    - 테스트 디자인 생성\n",
    "    - 모델 생성\n",
    "    - 모델 평가\n",
    "- 5단계 평가 (Evaluation)\n",
    "    - 결과 평가\n",
    "    - 프로세스 검토\n",
    "    - 다음 단계 결정\n",
    "----\n",
    "- 6단계 배포 (Deployment)\n",
    "    - 배포 계획\n",
    "    - 모니터링 및 유지 관리 계획\n",
    "    - 최종 보고서 작성\n",
    "    - 프로젝트 검토"
   ]
  },
  {
   "cell_type": "markdown",
   "metadata": {},
   "source": [
    "## SEMMA 방법론\n",
    "---\n",
    "- Sampling (데이터추출)\n",
    "- Exploration (데이터 탐색)\n",
    "- Modification (변수가공)\n",
    "- Modeling (모델구축)\n",
    "- Assessment (모델평가)"
   ]
  },
  {
   "cell_type": "markdown",
   "metadata": {},
   "source": [
    "data science : (문제 정의) -> 분석 -> 모델링 -> 배포 ...)\n",
    "\n",
    "CRISP-DM 방법론\n",
    "1) 비즈니스 이해 (문제 정의 : 현재 상황 평가, 데이터마이닝 목표 결정)\n",
    "2) 데이터 이해 (데이터 설명, 데이터 탐색, 데이터 품질 확인)\n",
    "3) 데이터 준비 (데이터 선택, 필수데이터 구성)\n",
    "4) 모델링 (모델링 기법 선정, 모델 생성, 모델 평가)\n",
    "5) 평가 (결과 평가 및 프로세스 검토)\n",
    "6) 배포 (모니터링, 유지 관리 계획)\n",
    "\n",
    "2~5단계가 데이터 하이퍼라인에서 핵심\n",
    "\n",
    "SEMMA 방법론 : Sampling (추출), Exploration (탐색), Modification (변수가공), Modeling (모델링), Assessment (평가)\n"
   ]
  },
  {
   "cell_type": "markdown",
   "metadata": {},
   "source": [
    "머신러닝 시에 정성적 데이터 -> 정량적 데이터(Quantitative date)로 가공하는 작업 필요 (학습 준비 단계에서)\n",
    "\n",
    "schema = 구조 (데이터의 자료형, 파일의 크기 ...)\n",
    "instance = 특정 시점의 데이터베이스 content\n",
    "transaction = 데이터베이스를 수정하거나 다룰 때 수행하는 한 작업 단위\n",
    "\n",
    "통계분석 (모집단 추정) vs 머신러닝 (표본 조사 없이 신경망 모델로 추정)"
   ]
  }
 ],
 "metadata": {
  "kernelspec": {
   "display_name": "Python 3 (ipykernel)",
   "language": "python",
   "name": "python3"
  },
  "language_info": {
   "codemirror_mode": {
    "name": "ipython",
    "version": 3
   },
   "file_extension": ".py",
   "mimetype": "text/x-python",
   "name": "python",
   "nbconvert_exporter": "python",
   "pygments_lexer": "ipython3",
   "version": "3.8.16"
  }
 },
 "nbformat": 4,
 "nbformat_minor": 4
}
